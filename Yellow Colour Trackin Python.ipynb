{
 "cells": [
  {
   "cell_type": "code",
   "execution_count": null,
   "metadata": {},
   "outputs": [],
   "source": [
    "'''\n",
    "Full Project Link :- https://github.com/ShantonuAcharjee/Yellow-Colour-Trackin-Python\n",
    "Author: Shantonu Acharjee\n",
    "Email: shantonuacharjee@gmail.com\n",
    "YouTube :- http://tinyurl.com/yy374bou\n",
    "FaceBook: http://tinyurl.com/y52rgdd4\n",
    "'''\n",
    "\n",
    "import cv2\n",
    "import numpy as np   \n",
    "cap=cv2.VideoCapture(0)\n",
    "\n",
    "yellow_lower =np.array([22,93,0])\n",
    "yellow_upper =np.array([45, 255 ,255])\n",
    "\n",
    "while True:\n",
    "    ret,frame=cap.read()\n",
    "    gray = cv2.cvtColor(frame,cv2.COLOR_BGR2GRAY)\n",
    "    hsv = cv2.cvtColor(frame, cv2.COLOR_BGR2HSV)\n",
    "    mask = cv2.inRange(hsv,yellow_lower,yellow_upper)\n",
    "    contours,hierarchy=cv2.findContours(mask,cv2.RETR_EXTERNAL,cv2.CHAIN_APPROX_SIMPLE)\n",
    "    \n",
    "    \n",
    "    \n",
    "    for c in contours:\n",
    "        area =cv2.contourArea(c)\n",
    "        if area > 1000:\n",
    "            #cv2.drawContours(frame,c,-1,(0,255,0),2)\n",
    "            #print(area)\n",
    "            x,y,w,h=cv2.boundingRect(c)\n",
    "            cv2.rectangle(frame,(x,y),(x+w,y+h),(0,255,0),3)\n",
    "        \n",
    "    #cv2.imshow('mask',mask)\n",
    "    cv2.imshow('frame',frame)\n",
    "    if cv2.waitKey(10)== ord ('q'):\n",
    "        break\n",
    "        \n",
    "        \n",
    "cap.release()\n",
    "cv2.destroyAllWindows()"
   ]
  }
 ],
 "metadata": {
  "kernelspec": {
   "display_name": "Python 3",
   "language": "python",
   "name": "python3"
  },
  "language_info": {
   "codemirror_mode": {
    "name": "ipython",
    "version": 3
   },
   "file_extension": ".py",
   "mimetype": "text/x-python",
   "name": "python",
   "nbconvert_exporter": "python",
   "pygments_lexer": "ipython3",
   "version": "3.8.3"
  }
 },
 "nbformat": 4,
 "nbformat_minor": 4
}
